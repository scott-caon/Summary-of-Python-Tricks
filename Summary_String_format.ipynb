{
 "cells": [
  {
   "cell_type": "code",
   "execution_count": 1,
   "metadata": {},
   "outputs": [
    {
     "name": "stdout",
     "output_type": "stream",
     "text": [
      "This is my favourite book which is really awesome, so I'll recomend this book\n",
      "This is my favourite book which is really awesome. so I'll recommend this book\n"
     ]
    }
   ],
   "source": [
    "# 1   Format\n",
    "# Format Type 1\n",
    "print(\"This is my favourite {} which is really {}, so I'll recomend this {}\".format(\"book\", \"awesome\", \"book\"))\n",
    "# Format Type 2 - A\n",
    "print(\"This is my favourite {0} which is really {1}. so I'll recommend this {0}\".format(\"book\", \"awesome\"))"
   ]
  },
  {
   "cell_type": "code",
   "execution_count": 2,
   "metadata": {},
   "outputs": [
    {
     "name": "stdout",
     "output_type": "stream",
     "text": [
      "This is my favourite book which is really awesome. so I'll recommend this book\n"
     ]
    }
   ],
   "source": [
    "# Type 2 - B\n",
    "print(\"This is my favourite {a} which is really {b}. so I'll recommend this {c}\".format(a=\"book\", b=\"awesome\", c=\"book\"))"
   ]
  },
  {
   "cell_type": "code",
   "execution_count": 3,
   "metadata": {},
   "outputs": [
    {
     "name": "stdout",
     "output_type": "stream",
     "text": [
      "This is my favourite book which is really awesome \n"
     ]
    }
   ],
   "source": [
    "# 3   f\n",
    "a = \"book\"\n",
    "b = \"awesome\"\n",
    "print(f\"This is my favourite {a} which is really {b} \")"
   ]
  },
  {
   "cell_type": "code",
   "execution_count": null,
   "metadata": {},
   "outputs": [],
   "source": []
  }
 ],
 "metadata": {
  "kernelspec": {
   "display_name": "Python 3",
   "language": "python",
   "name": "python3"
  },
  "language_info": {
   "codemirror_mode": {
    "name": "ipython",
    "version": 3
   },
   "file_extension": ".py",
   "mimetype": "text/x-python",
   "name": "python",
   "nbconvert_exporter": "python",
   "pygments_lexer": "ipython3",
   "version": "3.7.4"
  }
 },
 "nbformat": 4,
 "nbformat_minor": 2
}
